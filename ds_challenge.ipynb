{
 "cells": [
  {
   "cell_type": "code",
   "execution_count": 32,
   "metadata": {
    "collapsed": true
   },
   "outputs": [],
   "source": [
    "import json\n",
    "import datetime\n",
    "import pandas as pd"
   ]
  },
  {
   "cell_type": "code",
   "execution_count": 39,
   "metadata": {
    "collapsed": false
   },
   "outputs": [],
   "source": [
    "# read data from the json file\n",
    "with open('/Users/miffyvo/Desktop/sc_data_science_challenge.json') as data_file:    \n",
    "    data = json.load(data_file)"
   ]
  },
  {
   "cell_type": "code",
   "execution_count": 40,
   "metadata": {
    "collapsed": false
   },
   "outputs": [
    {
     "name": "stdout",
     "output_type": "stream",
     "text": [
      "[u'data', u'columns']\n",
      "ncol: 16\n",
      "nrow: 828169\n"
     ]
    }
   ],
   "source": [
    "# print all the keys available\n",
    "print data.keys()\n",
    "\n",
    "# extract the column and data arrays\n",
    "columns = data['columns']\n",
    "\n",
    "# append skip column\n",
    "columns.append(\"skip_ind\")\n",
    "\n",
    "# extract the data from json\n",
    "data = data['data']\n",
    "\n",
    "# initialize the skip index column\n",
    "for d in data:\n",
    "    d.append(0)\n",
    "\n",
    "# number of data items\n",
    "print \"ncol:\", len(columns)\n",
    "print \"nrow:\", len(data)"
   ]
  },
  {
   "cell_type": "markdown",
   "metadata": {},
   "source": [
    "Define <br/>\n",
    "* $l\\in L$ set of listeners <br/>\n",
    "* $d_l$ signup date of listener $l$ <br/>\n",
    "* $m\\in M_l$ set of recommended tracks listened by listener $l$ <br/>\n",
    "* $v_{m, l}$ client version of the software used by listener $l$ to listen to track $m$ <br/>\n",
    "* $z_{m, l}$ country where listener $l$ listened to track $m$ <br/>\n",
    "* $c_{m, l}$ top genre category identified at the time listener $l$ listened to track $m$ <br/>\n",
    "* $\\tau_{m, l}$ total listening time by listener $l$ last month <br/>\n",
    "* $n_{m, l}$ average number of daily tracks listened by listener $l$ last month <br/>\n",
    "* $t_{m, l}$ start time of track $m$ by listener $l$ <br/>\n",
    "* $c_m$ genre category of track $m$ <br/>\n",
    "* $u_m$ upload date of track $m$ <br/>\n",
    "* $d_m$ duration of track $m$ <br/>\n",
    "* $e_{m, l}$ elapsed/listening time of track $m$ by listener $l$ <br/>\n",
    "* $w_{m, l}$ section of the SoundCloud web app where listener $l$ listened to the track $m$ <br/>\n",
    "* $a_{m, l}$ algorithm used to recommend track $m$ to listener $l$ <br/>"
   ]
  },
  {
   "cell_type": "markdown",
   "metadata": {},
   "source": [
    "A recommended track $m$ is recognized as skipped when the track has more than $20\\%$ remaining ($d_{m,l} - e_{m,l} > 0.2 * d_{m,l}$)."
   ]
  },
  {
   "cell_type": "code",
   "execution_count": 41,
   "metadata": {
    "collapsed": true
   },
   "outputs": [],
   "source": [
    "i_track_duration = columns.index(\"track_duration\")\n",
    "i_listen_duration = columns.index(\"listen_duration\")\n",
    "i_skip = columns.index(\"skip_ind\")\n",
    "delta = 0.2\n",
    "\n",
    "for d in data:\n",
    "    d[i_skip] = 1 if d[i_track_duration] - d[i_listen_duration] > delta * d[i_track_duration] else 0"
   ]
  },
  {
   "cell_type": "code",
   "execution_count": 43,
   "metadata": {
    "collapsed": false
   },
   "outputs": [],
   "source": [
    "import numpy as np\n",
    "import matplotlib.pyplot as plt\n",
    "from sklearn import linear_model, datasets"
   ]
  },
  {
   "cell_type": "code",
   "execution_count": 254,
   "metadata": {
    "collapsed": true
   },
   "outputs": [],
   "source": [
    "pdata = pd.DataFrame(data = data, columns = columns)"
   ]
  },
  {
   "cell_type": "code",
   "execution_count": 255,
   "metadata": {
    "collapsed": false
   },
   "outputs": [],
   "source": [
    "Y = pdata[\"skip_ind\"]\n",
    "xvars = list(columns)\n",
    "\n",
    "# remove listener_id from X as the maximum count of recommended tracks \n",
    "# for a user is only 0.6% of the entire track population\n",
    "# print pdata[\"listener_id\"].value_counts()\n",
    "xvars.remove(\"listener_id\")\n",
    "\n",
    "# remove track_id from X as the maximum count of recommended tracks \n",
    "# for a track is only 0.15% of the entire track population\n",
    "# print pdata[\"track_id\"].value_counts()\n",
    "xvars.remove(\"track_id\")\n",
    "\n",
    "# remove listen_duration from X as it is part of the Y\n",
    "xvars.remove(\"listen_duration\")\n",
    "\n",
    "# extract X\n",
    "X = pdata[xvars]"
   ]
  },
  {
   "cell_type": "code",
   "execution_count": 256,
   "metadata": {
    "collapsed": false
   },
   "outputs": [
    {
     "name": "stderr",
     "output_type": "stream",
     "text": [
      "/Users/miffyvo/anaconda/lib/python2.7/site-packages/ipykernel/__main__.py:4: SettingWithCopyWarning: \n",
      "A value is trying to be set on a copy of a slice from a DataFrame.\n",
      "Try using .loc[row_indexer,col_indexer] = value instead\n",
      "\n",
      "See the caveats in the documentation: http://pandas.pydata.org/pandas-docs/stable/indexing.html#indexing-view-versus-copy\n"
     ]
    }
   ],
   "source": [
    "# handle country code\n",
    "# only US and GB\n",
    "# print pdata[\"country_code\"].value_counts()\n",
    "X['country_code'] = np.where(X['country_code'] == 'US', 1, 0)"
   ]
  },
  {
   "cell_type": "code",
   "execution_count": 257,
   "metadata": {
    "collapsed": false
   },
   "outputs": [
    {
     "name": "stderr",
     "output_type": "stream",
     "text": [
      "/Users/miffyvo/anaconda/lib/python2.7/site-packages/ipykernel/__main__.py:4: SettingWithCopyWarning: \n",
      "A value is trying to be set on a copy of a slice from a DataFrame.\n",
      "Try using .loc[row_indexer,col_indexer] = value instead\n",
      "\n",
      "See the caveats in the documentation: http://pandas.pydata.org/pandas-docs/stable/indexing.html#indexing-view-versus-copy\n"
     ]
    }
   ],
   "source": [
    "# handle client version\n",
    "# set 1 for version 204.0.0 as it accounts for almost half of the population\n",
    "# print pdata[\"client_version\"].value_counts()\n",
    "X['client_version'] = np.where(X['client_version'] == '204.0.0', 1, 0)"
   ]
  },
  {
   "cell_type": "code",
   "execution_count": 258,
   "metadata": {
    "collapsed": false
   },
   "outputs": [],
   "source": [
    "# handle listening context\n",
    "# need to convert them to dummy variables as they are quite distributed\n",
    "# print pdata[\"listening_context\"].value_counts()\n",
    "dummy = pd.get_dummies(X[\"listening_context\"], prefix=\"lc\")\n",
    "dummy.drop('lc_you', axis=1, inplace=True)\n",
    "\n",
    "# add the dummy columns back to X\n",
    "X = X.join(dummy)\n",
    "\n",
    "# drop the origin column\n",
    "X.drop('listening_context', axis=1, inplace=True)"
   ]
  },
  {
   "cell_type": "code",
   "execution_count": 259,
   "metadata": {
    "collapsed": false
   },
   "outputs": [],
   "source": [
    "# handle recommender algorithms\n",
    "# print pdata[\"recommender_algorithm_name\"].value_counts()\n",
    "dummy = pd.get_dummies(X[\"recommender_algorithm_name\"], prefix=\"ra\")\n",
    "dummy.drop('ra_fallback', axis=1, inplace=True)\n",
    "\n",
    "# add the dummy columns back to X\n",
    "X = X.join(dummy)\n",
    "\n",
    "# drop the origin column\n",
    "X.drop('recommender_algorithm_name', axis=1, inplace=True)"
   ]
  },
  {
   "cell_type": "code",
   "execution_count": 260,
   "metadata": {
    "collapsed": false
   },
   "outputs": [
    {
     "name": "stdout",
     "output_type": "stream",
     "text": [
      "HipHop & R&B          439394\n",
      "Dance & Electronic    244999\n",
      "Pop                    59622\n",
      "Rock                   37748\n",
      "World                  25095\n",
      "Reggae                  5687\n",
      "Speech                  4488\n",
      "Latin                   2931\n",
      "Classical               2807\n",
      "Jazz                    1846\n",
      "Metal                   1518\n",
      "Country                 1123\n",
      "Unknown                  911\n",
      "Name: track_genre_category, dtype: int64\n"
     ]
    }
   ],
   "source": [
    "# handle track genre category\n",
    "print pdata[\"track_genre_category\"].value_counts()\n",
    "\n",
    "X['tc_hiphop'] = np.where(X['track_genre_category'] == 'HipHop & R&B', 1, 0)\n",
    "X['tc_dance'] = np.where(X['track_genre_category'] == 'Dance & Electronic', 1, 0)\n",
    "\n",
    "# drop the origin column\n",
    "X.drop('track_genre_category', axis=1, inplace=True)"
   ]
  },
  {
   "cell_type": "code",
   "execution_count": 261,
   "metadata": {
    "collapsed": false
   },
   "outputs": [
    {
     "name": "stdout",
     "output_type": "stream",
     "text": [
      "HipHop & R&B          542346\n",
      "Dance & Electronic    188723\n",
      "Pop                    35766\n",
      "Rock                   21990\n",
      "World                  21534\n",
      "Speech                  5310\n",
      "Latin                   2521\n",
      "Reggae                  2498\n",
      "Classical               1529\n",
      "Metal                   1362\n",
      "Jazz                     501\n",
      "Country                  312\n",
      "Name: listener_top_genre_category_listened, dtype: int64\n"
     ]
    }
   ],
   "source": [
    "# handle listener_top_genre_category\n",
    "print pdata[\"listener_top_genre_category_listened\"].value_counts()\n",
    "\n",
    "X['lt_hiphop'] = np.where(X['listener_top_genre_category_listened'] == 'HipHop & R&B', 1, 0)\n",
    "X['lt_dance'] = np.where(X['listener_top_genre_category_listened'] == 'Dance & Electronic', 1, 0)\n",
    "\n",
    "# drop the origin column\n",
    "X.drop('listener_top_genre_category_listened', axis=1, inplace=True)"
   ]
  },
  {
   "cell_type": "code",
   "execution_count": 262,
   "metadata": {
    "collapsed": true
   },
   "outputs": [],
   "source": [
    "def ts2date(s):\n",
    "    return datetime.datetime.fromtimestamp(int(s)).strftime('%Y-%m-%d %H:%M:%S')\n",
    "\n",
    "def ts2dow(s):\n",
    "    return datetime.datetime.fromtimestamp(int(s)).strftime('%a')\n",
    "\n",
    "def ts2year(s):\n",
    "    return datetime.datetime.fromtimestamp(int(s)).strftime('%Y')\n",
    "\n",
    "def ts2month(s):\n",
    "    return datetime.datetime.fromtimestamp(int(s)).strftime('%m')"
   ]
  },
  {
   "cell_type": "code",
   "execution_count": 263,
   "metadata": {
    "collapsed": false
   },
   "outputs": [],
   "source": [
    "timecols = [\"ts\", \"track_upload_date\", \"listener_signup_date\"]\n",
    "prefixes = [\"ts\", \"ud\", \"sd\"]\n",
    "\n",
    "for i in range(0, len(timecols)):\n",
    "    col = timecols[i]\n",
    "    prefix = prefixes[i]\n",
    "    dummy = X.apply(lambda x: ts2dow(x[col]), axis=1)\n",
    "    dummy = pd.get_dummies(dummy, prefix=prefix + \"_dow\")\n",
    "    \n",
    "    # remove the last dummy variable\n",
    "    t = dummy.columns.values\n",
    "    t = t[len(t) - 1]\n",
    "    dummy.drop(t, axis=1, inplace=True)\n",
    "\n",
    "    # add the dummy columns back to X\n",
    "    X = X.join(dummy)"
   ]
  },
  {
   "cell_type": "code",
   "execution_count": 264,
   "metadata": {
    "collapsed": false
   },
   "outputs": [],
   "source": [
    "for i in range(0, len(timecols)):\n",
    "    col = timecols[i]\n",
    "    prefix = prefixes[i]\n",
    "    dummy = X.apply(lambda x: ts2month(x[col]), axis=1)\n",
    "    dummy = pd.get_dummies(dummy, prefix=prefix + \"_mon\")\n",
    "    \n",
    "    # remove the last dummy variable\n",
    "    t = dummy.columns.values\n",
    "    t = t[len(t) - 1]\n",
    "    dummy.drop(t, axis=1, inplace=True)\n",
    "    \n",
    "    # add the dummy columns back to X\n",
    "    X = X.join(dummy)"
   ]
  },
  {
   "cell_type": "code",
   "execution_count": 265,
   "metadata": {
    "collapsed": false
   },
   "outputs": [],
   "source": [
    "# skip i = 0, as the years of all ts are the same\n",
    "i = 1\n",
    "col = timecols[i]\n",
    "prefix = prefixes[i]\n",
    "dummy = X.apply(lambda x: ts2year(x[col]), axis=1)\n",
    "#dummy.value_counts()\n",
    "dummy_2016 = pd.DataFrame(data = np.where(dummy == '2016', 1, 0), columns = [prefix + \"_year_2016\"])\n",
    "dummy_2015 = pd.DataFrame(data = np.where(dummy == '2015', 1, 0), columns = [prefix + \"_year_2015\"])\n",
    "X = X.join(dummy_2016)\n",
    "X = X.join(dummy_2015)"
   ]
  },
  {
   "cell_type": "code",
   "execution_count": 266,
   "metadata": {
    "collapsed": false
   },
   "outputs": [],
   "source": [
    "# skip i = 0, as the years of all ts are the same\n",
    "i = 2\n",
    "col = timecols[i]\n",
    "prefix = prefixes[i]\n",
    "dummy = X.apply(lambda x: ts2year(x[col]), axis=1)\n",
    "#dummy.value_counts()\n",
    "dummy_2016 = pd.DataFrame(data = np.where(dummy == '2016', 1, 0), columns = [prefix + \"_year_2016\"])\n",
    "dummy_2015 = pd.DataFrame(data = np.where(dummy == '2015', 1, 0), columns = [prefix + \"_year_2015\"])\n",
    "dummy_2014 = pd.DataFrame(data = np.where(dummy == '2014', 1, 0), columns = [prefix + \"_year_2014\"])\n",
    "dummy_2013 = pd.DataFrame(data = np.where(dummy == '2013', 1, 0), columns = [prefix + \"_year_2013\"])\n",
    "X = X.join(dummy_2016)\n",
    "X = X.join(dummy_2015)\n",
    "X = X.join(dummy_2014)\n",
    "X = X.join(dummy_2013)"
   ]
  },
  {
   "cell_type": "code",
   "execution_count": 267,
   "metadata": {
    "collapsed": false
   },
   "outputs": [],
   "source": [
    "# drop the origin timestamp columns\n",
    "for i in timecols:\n",
    "    X.drop(i, axis=1, inplace=True)"
   ]
  },
  {
   "cell_type": "code",
   "execution_count": 268,
   "metadata": {
    "collapsed": false
   },
   "outputs": [],
   "source": [
    "# convert to minutes\n",
    "X['listener_prev_month_listening_time'] = X['listener_prev_month_listening_time'] / 1000 / 60"
   ]
  },
  {
   "cell_type": "code",
   "execution_count": 269,
   "metadata": {
    "collapsed": true
   },
   "outputs": [],
   "source": [
    "# convert to minutes\n",
    "X['track_duration'] = X['track_duration'] / 1000 / 60"
   ]
  },
  {
   "cell_type": "code",
   "execution_count": 283,
   "metadata": {
    "collapsed": false
   },
   "outputs": [
    {
     "name": "stderr",
     "output_type": "stream",
     "text": [
      "/Users/miffyvo/anaconda/lib/python2.7/site-packages/ipykernel/__main__.py:4: SettingWithCopyWarning: \n",
      "A value is trying to be set on a copy of a slice from a DataFrame\n",
      "\n",
      "See the caveats in the documentation: http://pandas.pydata.org/pandas-docs/stable/indexing.html#indexing-view-versus-copy\n"
     ]
    }
   ],
   "source": [
    "X['skip_ind'] = Y\n",
    "X = X.dropna()\n",
    "Y = X['skip_ind']\n",
    "X.drop('skip_ind', axis=1, inplace=True)"
   ]
  },
  {
   "cell_type": "code",
   "execution_count": 286,
   "metadata": {
    "collapsed": true
   },
   "outputs": [],
   "source": [
    "X['skip_ind'] = Y\n",
    "X.to_csv(\"/Users/miffyvo/Desktop/ds_full.txt\", sep='\\t', encoding='utf-8')"
   ]
  },
  {
   "cell_type": "code",
   "execution_count": 284,
   "metadata": {
    "collapsed": false
   },
   "outputs": [
    {
     "data": {
      "text/plain": [
       "LogisticRegression(C=100000.0, class_weight=None, dual=False,\n",
       "          fit_intercept=True, intercept_scaling=1, max_iter=100,\n",
       "          multi_class='ovr', n_jobs=1, penalty='l2', random_state=None,\n",
       "          solver='liblinear', tol=0.0001, verbose=0, warm_start=False)"
      ]
     },
     "execution_count": 284,
     "metadata": {},
     "output_type": "execute_result"
    }
   ],
   "source": [
    "logreg = linear_model.LogisticRegression(C=1e5)\n",
    "logreg.fit(X, Y)"
   ]
  },
  {
   "cell_type": "code",
   "execution_count": null,
   "metadata": {
    "collapsed": true
   },
   "outputs": [],
   "source": []
  }
 ],
 "metadata": {
  "kernelspec": {
   "display_name": "Python 2",
   "language": "python",
   "name": "python2"
  },
  "language_info": {
   "codemirror_mode": {
    "name": "ipython",
    "version": 2
   },
   "file_extension": ".py",
   "mimetype": "text/x-python",
   "name": "python",
   "nbconvert_exporter": "python",
   "pygments_lexer": "ipython2",
   "version": "2.7.12"
  }
 },
 "nbformat": 4,
 "nbformat_minor": 0
}
